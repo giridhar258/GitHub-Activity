{
 "cells": [
  {
   "cell_type": "code",
   "execution_count": 4,
   "id": "df79c47e-4875-4b36-b9b1-4297976f2a9c",
   "metadata": {},
   "outputs": [
    {
     "name": "stdout",
     "output_type": "stream",
     "text": [
      "✅ Found 16 recent events\n",
      "\n",
      "- Pushed 1 commits to giridhar258/Todo-List-API\n",
      "- Pushed 1 commits to giridhar258/Todo-List-API\n",
      "- Created a new branch in giridhar258/Todo-List-API\n",
      "- Created a new repository in giridhar258/Todo-List-API\n",
      "- Pushed 1 commits to giridhar258/real-time-leaderboard\n",
      "- Pushed 1 commits to giridhar258/real-time-leaderboard\n",
      "- Created a new repository in giridhar258/real-time-leaderboard\n",
      "- Created a new branch in giridhar258/real-time-leaderboard\n",
      "- Pushed 1 commits to giridhar258/Unit-converter\n",
      "- Pushed 1 commits to giridhar258/Unit-converter\n"
     ]
    }
   ],
   "source": [
    "import urllib.request\n",
    "import json\n",
    "\n",
    "def fetch_github_activity(username: str):\n",
    "    \"\"\"\n",
    "    Fetch recent GitHub activity for the given username using the GitHub API.\n",
    "    \"\"\"\n",
    "    url = f\"https://api.github.com/users/{username}/events\"\n",
    "    \n",
    "    try:\n",
    "        with urllib.request.urlopen(url) as response:\n",
    "            if response.status != 200:\n",
    "                print(f\"⚠️ Failed to fetch data. Status code: {response.status}\")\n",
    "                return []\n",
    "            data = response.read().decode(\"utf-8\")\n",
    "            return json.loads(data)\n",
    "    except urllib.error.HTTPError as e:\n",
    "        print(f\"❌ HTTP Error: {e.code} - {e.reason}\")\n",
    "        return []\n",
    "    except urllib.error.URLError as e:\n",
    "        print(f\"❌ URL Error: {e.reason}\")\n",
    "        return []\n",
    "    except Exception as e:\n",
    "        print(f\"❌ Unexpected Error: {str(e)}\")\n",
    "        return []\n",
    "\n",
    "\n",
    "def display_activity(events):\n",
    "    \"\"\"\n",
    "    Display GitHub user activity in a readable format.\n",
    "    \"\"\"\n",
    "    if not events:\n",
    "        print(\"⚠️ No activity found or failed to fetch activity.\")\n",
    "        return\n",
    "    \n",
    "    print(f\"✅ Found {len(events)} recent events\\n\")  # Debugging info\n",
    "    \n",
    "    for event in events[:10]:  # Limit to 10 recent activities\n",
    "        event_type = event[\"type\"]\n",
    "        repo = event[\"repo\"][\"name\"]\n",
    "\n",
    "        if event_type == \"PushEvent\":\n",
    "            commit_count = len(event[\"payload\"][\"commits\"])\n",
    "            print(f\"- Pushed {commit_count} commits to {repo}\")\n",
    "        elif event_type == \"IssuesEvent\":\n",
    "            action = event[\"payload\"][\"action\"]\n",
    "            print(f\"- {action.capitalize()} an issue in {repo}\")\n",
    "        elif event_type == \"WatchEvent\":\n",
    "            print(f\"- Starred {repo}\")\n",
    "        elif event_type == \"ForkEvent\":\n",
    "            print(f\"- Forked {repo}\")\n",
    "        elif event_type == \"CreateEvent\":\n",
    "            ref_type = event[\"payload\"][\"ref_type\"]\n",
    "            print(f\"- Created a new {ref_type} in {repo}\")\n",
    "        else:\n",
    "            print(f\"- {event_type} in {repo}\")\n",
    "\n",
    "\n",
    "username = \"giridhar258\"  \n",
    "events = fetch_github_activity(username)\n",
    "display_activity(events)\n"
   ]
  },
  {
   "cell_type": "code",
   "execution_count": null,
   "id": "c96b1ceb-06b4-4359-b73e-d380bde2e909",
   "metadata": {},
   "outputs": [],
   "source": []
  }
 ],
 "metadata": {
  "kernelspec": {
   "display_name": "Python 3 (ipykernel)",
   "language": "python",
   "name": "python3"
  },
  "language_info": {
   "codemirror_mode": {
    "name": "ipython",
    "version": 3
   },
   "file_extension": ".py",
   "mimetype": "text/x-python",
   "name": "python",
   "nbconvert_exporter": "python",
   "pygments_lexer": "ipython3",
   "version": "3.13.5"
  }
 },
 "nbformat": 4,
 "nbformat_minor": 5
}
